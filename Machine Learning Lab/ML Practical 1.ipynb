{
 "cells": [
  {
   "cell_type": "code",
   "execution_count": 41,
   "metadata": {},
   "outputs": [
    {
     "name": "stdout",
     "output_type": "stream",
     "text": [
      "[[1 2 3 4 5]\n",
      " [5 6 7 8 9]] \n",
      "\n",
      "[[1 2 3 4 5]\n",
      " [5 6 7 8 9]]\n"
     ]
    }
   ],
   "source": [
    "# Dhananjai Sharma",
    "import numpy as np\n",
    "a = np.array([[1,2,3,4,5],[5,6,7,8,9]])\n",
    "b = np.array(([[1,2,3,4,5],[5,6,7,8,9]]))\n",
    "print(a,'\\n')\n",
    "print(b)"
   ]
  },
  {
   "cell_type": "code",
   "execution_count": 20,
   "metadata": {},
   "outputs": [
    {
     "name": "stdout",
     "output_type": "stream",
     "text": [
      "[[ 2  4  6  8 10]\n",
      " [10 12 14 16 18]]\n"
     ]
    }
   ],
   "source": [
    "##SUM\n",
    "c = a + b\n",
    "print(c)"
   ]
  },
  {
   "cell_type": "code",
   "execution_count": 11,
   "metadata": {},
   "outputs": [
    {
     "name": "stdout",
     "output_type": "stream",
     "text": [
      "[[ 1  4  9 16 25]\n",
      " [25 36 49 64 81]]\n"
     ]
    }
   ],
   "source": [
    "##MULTIPLY\n",
    "c = a * b\n",
    "print(c)"
   ]
  },
  {
   "cell_type": "code",
   "execution_count": 26,
   "metadata": {},
   "outputs": [
    {
     "name": "stdout",
     "output_type": "stream",
     "text": [
      "[[0 0 0 0 0]\n",
      " [0 0 0 0 0]]\n"
     ]
    }
   ],
   "source": [
    "##DIFF\n",
    "c = a - b\n",
    "print(c)"
   ]
  },
  {
   "cell_type": "code",
   "execution_count": 27,
   "metadata": {},
   "outputs": [
    {
     "name": "stdout",
     "output_type": "stream",
     "text": [
      "First Column:  [1 5 9]\n",
      "First Row:  [1 2 3 4 5]\n",
      "Third Row:  [ 9 10 11 12 13]\n",
      "Third Column:  [ 3  7 11]\n"
     ]
    }
   ],
   "source": [
    "##Printing Specific Rows and Columns\n",
    "a = np.array([[1,2,3,4,5],[5,6,7,8,9],[9,10,11,12,13]])\n",
    "print('First Column: ', a[:,0])\n",
    "print('First Row: ', a[0,:])\n",
    "print('Third Row: ', a[2,:])\n",
    "print('Third Column: ', a[:,2])"
   ]
  },
  {
   "cell_type": "code",
   "execution_count": 28,
   "metadata": {},
   "outputs": [
    {
     "data": {
      "text/plain": [
       "array([[ 1,  2,  3,  4,  5],\n",
       "       [ 5,  6,  7,  8,  9],\n",
       "       [ 9, 10, 11, 12, 13]])"
      ]
     },
     "execution_count": 28,
     "metadata": {},
     "output_type": "execute_result"
    }
   ],
   "source": [
    "a"
   ]
  },
  {
   "cell_type": "code",
   "execution_count": 40,
   "metadata": {
    "scrolled": true
   },
   "outputs": [
    {
     "name": "stdout",
     "output_type": "stream",
     "text": [
      "[[ 1  2  3  4  5]\n",
      " [ 5  6  7  8  9]\n",
      " [ 9 10 11 12 13]] \n",
      "\n",
      "[6 7 8] \n",
      "\n",
      "[[4 5]\n",
      " [8 9]]\n"
     ]
    }
   ],
   "source": [
    "##Slicing\n",
    "print(a,'\\n')\n",
    "print(a[1,1:4],'\\n')\n",
    "print(a[0:2,3:5])"
   ]
  }
 ],
 "metadata": {
  "kernelspec": {
   "display_name": "Python 3",
   "language": "python",
   "name": "python3"
  },
  "language_info": {
   "codemirror_mode": {
    "name": "ipython",
    "version": 3
   },
   "file_extension": ".py",
   "mimetype": "text/x-python",
   "name": "python",
   "nbconvert_exporter": "python",
   "pygments_lexer": "ipython3",
   "version": "3.7.1"
  }
 },
 "nbformat": 4,
 "nbformat_minor": 2
}
